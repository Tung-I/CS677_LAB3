{
 "cells": [
  {
   "cell_type": "code",
   "execution_count": 2,
   "id": "59e31b33",
   "metadata": {},
   "outputs": [],
   "source": [
    "from collections import OrderedDict\n",
    "\n",
    "cache = OrderedDict()\n",
    "cache['a'] = 1\n",
    "cache['b'] = 1"
   ]
  },
  {
   "cell_type": "code",
   "execution_count": 8,
   "id": "1422319f",
   "metadata": {},
   "outputs": [
    {
     "data": {
      "text/plain": [
       "False"
      ]
     },
     "execution_count": 8,
     "metadata": {},
     "output_type": "execute_result"
    }
   ],
   "source": [
    "\"c\" in cache"
   ]
  },
  {
   "cell_type": "code",
   "execution_count": 7,
   "id": "1c854768",
   "metadata": {},
   "outputs": [
    {
     "data": {
      "text/plain": [
       "True"
      ]
     },
     "execution_count": 7,
     "metadata": {},
     "output_type": "execute_result"
    }
   ],
   "source": [
    "import os\n",
    "from dotenv import load_dotenv\n",
    "load_dotenv()"
   ]
  },
  {
   "cell_type": "code",
   "execution_count": 9,
   "id": "66590d93",
   "metadata": {},
   "outputs": [
    {
     "data": {
      "text/plain": [
       "'16006'"
      ]
     },
     "execution_count": 9,
     "metadata": {},
     "output_type": "execute_result"
    }
   ],
   "source": [
    "os.environ.get('ORDER_REQUEST_PORT1')"
   ]
  },
  {
   "cell_type": "code",
   "execution_count": 5,
   "id": "978a2a52",
   "metadata": {},
   "outputs": [
    {
     "name": "stdout",
     "output_type": "stream",
     "text": [
      "None\n"
     ]
    }
   ],
   "source": [
    "print(a)"
   ]
  },
  {
   "cell_type": "code",
   "execution_count": 3,
   "id": "955f75ec",
   "metadata": {},
   "outputs": [
    {
     "name": "stdout",
     "output_type": "stream",
     "text": [
      "[{'transaction number': 0, 'stock name': 'aapl', 'order type': 'sell', 'quantity': 10}, {'transaction number': 2, 'stock name': 'safe', 'order type': 'buy', 'quantity': 10}, {'transaction number': 1, 'stock name': 'mmaewf', 'order type': 'sell', 'quantity': 11}]\n"
     ]
    }
   ],
   "source": [
    "orders = []\n",
    "orders.append(\n",
    "    {\n",
    "        \"transaction number\": 0,\n",
    "        \"stock name\": \"aapl\",\n",
    "        \"order type\": \"sell\",\n",
    "        \"quantity\": 10\n",
    "    }\n",
    ")\n",
    "orders.append(\n",
    "    {\n",
    "        \"transaction number\": 2,\n",
    "        \"stock name\": \"safe\",\n",
    "        \"order type\": \"buy\",\n",
    "        \"quantity\": 10\n",
    "    }\n",
    ")\n",
    "orders.append(\n",
    "    {\n",
    "        \"transaction number\": 1,\n",
    "        \"stock name\": \"mmaewf\",\n",
    "        \"order type\": \"sell\",\n",
    "        \"quantity\": 11\n",
    "    }\n",
    ")\n",
    "print(orders)"
   ]
  },
  {
   "cell_type": "code",
   "execution_count": 5,
   "id": "87c5c83e",
   "metadata": {},
   "outputs": [
    {
     "name": "stdout",
     "output_type": "stream",
     "text": [
      "[{'transaction number': 0, 'stock name': 'aapl', 'order type': 'sell', 'quantity': 10}, {'transaction number': 1, 'stock name': 'mmaewf', 'order type': 'sell', 'quantity': 11}, {'transaction number': 2, 'stock name': 'safe', 'order type': 'buy', 'quantity': 10}]\n"
     ]
    }
   ],
   "source": [
    "new_orders = sorted(orders, key=lambda x: x[\"transaction number\"], reverse=False)\n",
    "print(new_orders)"
   ]
  },
  {
   "cell_type": "code",
   "execution_count": null,
   "id": "2b3d336e",
   "metadata": {},
   "outputs": [],
   "source": []
  }
 ],
 "metadata": {
  "kernelspec": {
   "display_name": "Python 3 (ipykernel)",
   "language": "python",
   "name": "python3"
  },
  "language_info": {
   "codemirror_mode": {
    "name": "ipython",
    "version": 3
   },
   "file_extension": ".py",
   "mimetype": "text/x-python",
   "name": "python",
   "nbconvert_exporter": "python",
   "pygments_lexer": "ipython3",
   "version": "3.9.13"
  }
 },
 "nbformat": 4,
 "nbformat_minor": 5
}
